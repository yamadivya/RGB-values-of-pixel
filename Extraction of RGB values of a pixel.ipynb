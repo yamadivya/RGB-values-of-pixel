{
 "cells": [
  {
   "cell_type": "markdown",
   "id": "e717b8e9",
   "metadata": {},
   "source": [
    "In this notebook, I have tried to find R, G, B values of any pixel I double click on image. Using R, G, B values I have categorized colo name of that pixel."
   ]
  },
  {
   "cell_type": "code",
   "execution_count": 1,
   "id": "cbbcc868",
   "metadata": {},
   "outputs": [
    {
     "name": "stdout",
     "output_type": "stream",
     "text": [
      "Requirement already satisfied: pandas in c:\\users\\manoj\\anaconda3\\lib\\site-packages (1.2.4)\n",
      "Collecting opencv-python\n",
      "  Downloading opencv_python-4.7.0.72-cp37-abi3-win_amd64.whl (38.2 MB)\n",
      "Requirement already satisfied: numpy>=1.17.3 in c:\\users\\manoj\\anaconda3\\lib\\site-packages (from opencv-python) (1.20.1)\n",
      "Requirement already satisfied: pytz>=2017.3 in c:\\users\\manoj\\anaconda3\\lib\\site-packages (from pandas) (2021.1)\n",
      "Requirement already satisfied: python-dateutil>=2.7.3 in c:\\users\\manoj\\anaconda3\\lib\\site-packages (from pandas) (2.8.1)\n",
      "Requirement already satisfied: six>=1.5 in c:\\users\\manoj\\anaconda3\\lib\\site-packages (from python-dateutil>=2.7.3->pandas) (1.15.0)\n",
      "Installing collected packages: opencv-python\n",
      "Successfully installed opencv-python-4.7.0.72\n",
      "Note: you may need to restart the kernel to use updated packages.\n"
     ]
    }
   ],
   "source": [
    "pip install pandas opencv-python"
   ]
  },
  {
   "cell_type": "code",
   "execution_count": 23,
   "id": "76ed4063",
   "metadata": {},
   "outputs": [],
   "source": [
    "import pandas as pd\n",
    "import cv2"
   ]
  },
  {
   "cell_type": "markdown",
   "id": "38668493",
   "metadata": {},
   "source": [
    "I have a csv file containing R, G, B values along with color name"
   ]
  },
  {
   "cell_type": "code",
   "execution_count": 24,
   "id": "8e65bc2d",
   "metadata": {},
   "outputs": [],
   "source": [
    "color_path = r'C:\\Users\\manoj\\Downloads\\Color detection\\Color detection\\colors.csv'"
   ]
  },
  {
   "cell_type": "code",
   "execution_count": 25,
   "id": "65b17b65",
   "metadata": {},
   "outputs": [],
   "source": [
    "img_path = r'C:\\Users\\Manoj\\Downloads\\model1.jpg'"
   ]
  },
  {
   "cell_type": "code",
   "execution_count": 26,
   "id": "61eeb712",
   "metadata": {},
   "outputs": [],
   "source": [
    "index = ['color', 'color_name', 'hex', 'R', 'G', 'B']"
   ]
  },
  {
   "cell_type": "code",
   "execution_count": 27,
   "id": "b2db4b00",
   "metadata": {},
   "outputs": [],
   "source": [
    "df = pd.read_csv(color_path, names = index, header = None)"
   ]
  },
  {
   "cell_type": "code",
   "execution_count": 28,
   "id": "583d0378",
   "metadata": {},
   "outputs": [
    {
     "data": {
      "text/html": [
       "<div>\n",
       "<style scoped>\n",
       "    .dataframe tbody tr th:only-of-type {\n",
       "        vertical-align: middle;\n",
       "    }\n",
       "\n",
       "    .dataframe tbody tr th {\n",
       "        vertical-align: top;\n",
       "    }\n",
       "\n",
       "    .dataframe thead th {\n",
       "        text-align: right;\n",
       "    }\n",
       "</style>\n",
       "<table border=\"1\" class=\"dataframe\">\n",
       "  <thead>\n",
       "    <tr style=\"text-align: right;\">\n",
       "      <th></th>\n",
       "      <th>color</th>\n",
       "      <th>color_name</th>\n",
       "      <th>hex</th>\n",
       "      <th>R</th>\n",
       "      <th>G</th>\n",
       "      <th>B</th>\n",
       "    </tr>\n",
       "  </thead>\n",
       "  <tbody>\n",
       "    <tr>\n",
       "      <th>0</th>\n",
       "      <td>air_force_blue_raf</td>\n",
       "      <td>Air Force Blue (Raf)</td>\n",
       "      <td>#5d8aa8</td>\n",
       "      <td>93</td>\n",
       "      <td>138</td>\n",
       "      <td>168</td>\n",
       "    </tr>\n",
       "    <tr>\n",
       "      <th>1</th>\n",
       "      <td>air_force_blue_usaf</td>\n",
       "      <td>Air Force Blue (Usaf)</td>\n",
       "      <td>#00308f</td>\n",
       "      <td>0</td>\n",
       "      <td>48</td>\n",
       "      <td>143</td>\n",
       "    </tr>\n",
       "    <tr>\n",
       "      <th>2</th>\n",
       "      <td>air_superiority_blue</td>\n",
       "      <td>Air Superiority Blue</td>\n",
       "      <td>#72a0c1</td>\n",
       "      <td>114</td>\n",
       "      <td>160</td>\n",
       "      <td>193</td>\n",
       "    </tr>\n",
       "    <tr>\n",
       "      <th>3</th>\n",
       "      <td>alabama_crimson</td>\n",
       "      <td>Alabama Crimson</td>\n",
       "      <td>#a32638</td>\n",
       "      <td>163</td>\n",
       "      <td>38</td>\n",
       "      <td>56</td>\n",
       "    </tr>\n",
       "    <tr>\n",
       "      <th>4</th>\n",
       "      <td>alice_blue</td>\n",
       "      <td>Alice Blue</td>\n",
       "      <td>#f0f8ff</td>\n",
       "      <td>240</td>\n",
       "      <td>248</td>\n",
       "      <td>255</td>\n",
       "    </tr>\n",
       "  </tbody>\n",
       "</table>\n",
       "</div>"
      ],
      "text/plain": [
       "                  color             color_name      hex    R    G    B\n",
       "0    air_force_blue_raf   Air Force Blue (Raf)  #5d8aa8   93  138  168\n",
       "1   air_force_blue_usaf  Air Force Blue (Usaf)  #00308f    0   48  143\n",
       "2  air_superiority_blue   Air Superiority Blue  #72a0c1  114  160  193\n",
       "3       alabama_crimson        Alabama Crimson  #a32638  163   38   56\n",
       "4            alice_blue             Alice Blue  #f0f8ff  240  248  255"
      ]
     },
     "execution_count": 28,
     "metadata": {},
     "output_type": "execute_result"
    }
   ],
   "source": [
    "df.head()"
   ]
  },
  {
   "cell_type": "code",
   "execution_count": 29,
   "id": "1a6e34e2",
   "metadata": {},
   "outputs": [
    {
     "name": "stdout",
     "output_type": "stream",
     "text": [
      "<class 'pandas.core.frame.DataFrame'>\n",
      "RangeIndex: 865 entries, 0 to 864\n",
      "Data columns (total 6 columns):\n",
      " #   Column      Non-Null Count  Dtype \n",
      "---  ------      --------------  ----- \n",
      " 0   color       865 non-null    object\n",
      " 1   color_name  865 non-null    object\n",
      " 2   hex         865 non-null    object\n",
      " 3   R           865 non-null    int64 \n",
      " 4   G           865 non-null    int64 \n",
      " 5   B           865 non-null    int64 \n",
      "dtypes: int64(3), object(3)\n",
      "memory usage: 40.7+ KB\n"
     ]
    }
   ],
   "source": [
    "df.info()"
   ]
  },
  {
   "cell_type": "markdown",
   "id": "feeeba40",
   "metadata": {},
   "source": [
    "Reading image file"
   ]
  },
  {
   "cell_type": "code",
   "execution_count": 30,
   "id": "52b07897",
   "metadata": {},
   "outputs": [],
   "source": [
    "img = cv2.imread(img_path)"
   ]
  },
  {
   "cell_type": "code",
   "execution_count": 31,
   "id": "4bee37d3",
   "metadata": {},
   "outputs": [
    {
     "name": "stdout",
     "output_type": "stream",
     "text": [
      "[[[44 63 66]\n",
      "  [44 63 66]\n",
      "  [44 63 66]\n",
      "  ...\n",
      "  [34 49 52]\n",
      "  [38 53 56]\n",
      "  [38 53 56]]\n",
      "\n",
      " [[43 62 65]\n",
      "  [43 62 65]\n",
      "  [43 62 65]\n",
      "  ...\n",
      "  [32 47 50]\n",
      "  [35 50 53]\n",
      "  [35 50 53]]\n",
      "\n",
      " [[42 61 64]\n",
      "  [42 61 64]\n",
      "  [42 61 64]\n",
      "  ...\n",
      "  [31 46 49]\n",
      "  [33 48 51]\n",
      "  [33 48 51]]\n",
      "\n",
      " ...\n",
      "\n",
      " [[33 39 50]\n",
      "  [23 29 40]\n",
      "  [16 22 33]\n",
      "  ...\n",
      "  [17 26 40]\n",
      "  [20 27 42]\n",
      "  [30 37 52]]\n",
      "\n",
      " [[43 49 60]\n",
      "  [30 36 47]\n",
      "  [19 25 36]\n",
      "  ...\n",
      "  [17 26 40]\n",
      "  [35 42 57]\n",
      "  [50 57 72]]\n",
      "\n",
      " [[47 53 64]\n",
      "  [33 39 50]\n",
      "  [19 25 36]\n",
      "  ...\n",
      "  [17 26 40]\n",
      "  [26 34 47]\n",
      "  [47 55 68]]]\n"
     ]
    }
   ],
   "source": [
    "print(img)"
   ]
  },
  {
   "cell_type": "code",
   "execution_count": 32,
   "id": "39690246",
   "metadata": {},
   "outputs": [],
   "source": [
    "img = cv2.resize(img, (800,800))"
   ]
  },
  {
   "cell_type": "code",
   "execution_count": 33,
   "id": "6560f6fc",
   "metadata": {},
   "outputs": [
    {
     "name": "stdout",
     "output_type": "stream",
     "text": [
      "B =  22 G =  25 R =  22\n",
      "Color =  Licorice\n",
      "B =  70 G =  103 R =  144\n",
      "Color =  Raw Umber\n",
      "B =  126 G =  168 R =  207\n",
      "Color =  Sand\n",
      "B =  34 G =  51 R =  57\n",
      "Color =  Olive Drab #7\n"
     ]
    }
   ],
   "source": [
    "def draw_function(event, x, y, flags, params):\n",
    "    if event == cv2.EVENT_LBUTTONDBLCLK:\n",
    "        #print(x,y)\n",
    "        b, g, r = img[y, x]\n",
    "        print(\"B = \", b, \"G = \",g, \"R = \",r)\n",
    "        \n",
    "        minimum = 1000\n",
    "        for i in range(len(df)):\n",
    "            d = abs(b - int(df.loc[i,'B'])) + abs(g - int(df.loc[i,'G'])) + abs(r - int(df.loc[i,'R']))\n",
    "            if d <= minimum:\n",
    "                minimum = d\n",
    "                cname = df.loc[i, 'color_name']\n",
    "                \n",
    "        print(\"Color = \", cname)\n",
    "        \n",
    "\n",
    "cv2.namedWindow('image')\n",
    "cv2.setMouseCallback('image', draw_function)\n",
    "cv2.imshow('image', img)\n",
    "cv2.waitKey(0)\n",
    "cv2.destroyAllWindows()"
   ]
  },
  {
   "cell_type": "code",
   "execution_count": null,
   "id": "b22f6037",
   "metadata": {},
   "outputs": [],
   "source": []
  }
 ],
 "metadata": {
  "kernelspec": {
   "display_name": "Python 3",
   "language": "python",
   "name": "python3"
  },
  "language_info": {
   "codemirror_mode": {
    "name": "ipython",
    "version": 3
   },
   "file_extension": ".py",
   "mimetype": "text/x-python",
   "name": "python",
   "nbconvert_exporter": "python",
   "pygments_lexer": "ipython3",
   "version": "3.8.8"
  }
 },
 "nbformat": 4,
 "nbformat_minor": 5
}
